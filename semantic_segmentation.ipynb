{
 "cells": [
  {
   "cell_type": "code",
   "execution_count": null,
   "metadata": {},
   "outputs": [],
   "source": [
    "%load_ext autoreload\n",
    "%autoreload 2"
   ]
  },
  {
   "cell_type": "code",
   "execution_count": null,
   "metadata": {},
   "outputs": [],
   "source": [
    "from coco_stuff import COCOStuff\n",
    "from pathlib import Path\n",
    "import matplotlib.pyplot as plt\n",
    "from torchvision.transforms import Normalize, ToTensor, Resize, Lambda\n",
    "from torch import LongTensor\n",
    "import torch\n",
    "import PIL\n",
    "import cv2\n",
    "import numpy as np"
   ]
  },
  {
   "cell_type": "code",
   "execution_count": null,
   "metadata": {},
   "outputs": [],
   "source": [
    "DATA = Path(\"data\")\n",
    "IMG = DATA / \"images\"\n",
    "IMG_TRAIN = IMG / \"train2017\"\n",
    "IMG_VAL = IMG / \"val2017\"\n",
    "\n",
    "ANNOT = DATA / \"annotations\"\n",
    "ANNOT_TRAIN = ANNOT / \"stuff_train2017.json\"\n",
    "ANNOT_VAL = ANNOT / \"stuff_val2017.json\"\n",
    "\n",
    "MASKS_TRAIN = ANNOT / \"stuff_train2017_pixelmaps/\"\n",
    "MASKS_VAL = ANNOT / \"stuff_val2017_pixelmaps/\""
   ]
  },
  {
   "cell_type": "code",
   "execution_count": null,
   "metadata": {},
   "outputs": [],
   "source": [
    "INPUT_SIZE = (512, 512)"
   ]
  },
  {
   "cell_type": "code",
   "execution_count": null,
   "metadata": {},
   "outputs": [],
   "source": [
    "image_transforms = [\n",
    "    Resize(INPUT_SIZE),\n",
    "    ToTensor(), \n",
    "    Normalize((0.5, 0.5, 0.5), (0.5, 0.5, 0.5))\n",
    "]\n",
    "\n",
    "mask_transforms = [\n",
    "    Lambda(\n",
    "        lambda mask: cv2.resize(\n",
    "            mask.astype(float), \n",
    "            INPUT_SIZE, \n",
    "            cv2.INTER_NEAREST\n",
    "        ).astype(int)\n",
    "    ),\n",
    "    Lambda(lambda mask: LongTensor(mask))\n",
    "]"
   ]
  },
  {
   "cell_type": "code",
   "execution_count": null,
   "metadata": {},
   "outputs": [],
   "source": [
    "# ds_train = COCOStuff(\n",
    "#     images_path=IMG_TRAIN,\n",
    "#     masks_path=MASKS_TRAIN,\n",
    "#     annotations_json=ANNOT_TRAIN,\n",
    "#     transformations=image_transforms,\n",
    "#     target_transformations=mask_transforms\n",
    "# )\n",
    "\n",
    "\n",
    "ds_val = COCOStuff(\n",
    "    images_path=IMG_VAL,\n",
    "    masks_path=MASKS_VAL,\n",
    "    annotations_json=ANNOT_VAL,\n",
    "    transformations=image_transforms,\n",
    "    target_transformations=mask_transforms\n",
    ")\n"
   ]
  },
  {
   "cell_type": "code",
   "execution_count": null,
   "metadata": {},
   "outputs": [],
   "source": [
    "img, mask = ds_val[4145]\n",
    "plt.imshow(img.permute(1, 2, 0).numpy())\n",
    "plt.imshow(mask.numpy(), alpha=0.5)"
   ]
  },
  {
   "cell_type": "code",
   "execution_count": null,
   "metadata": {},
   "outputs": [],
   "source": [
    "np.unique(mask.numpy())"
   ]
  },
  {
   "cell_type": "code",
   "execution_count": null,
   "metadata": {},
   "outputs": [],
   "source": [
    "import unet"
   ]
  },
  {
   "cell_type": "code",
   "execution_count": null,
   "metadata": {},
   "outputs": [],
   "source": [
    "# un = unet.UNet(256)\n",
    "# xd = un(img.unsqueeze(0))\n",
    "# xd.size()"
   ]
  },
  {
   "cell_type": "code",
   "execution_count": null,
   "metadata": {},
   "outputs": [],
   "source": [
    "import torch.nn as nn"
   ]
  },
  {
   "cell_type": "code",
   "execution_count": null,
   "metadata": {},
   "outputs": [],
   "source": [
    "c = nn.ConvTranspose2d(3, 3, 2, 2)\n",
    "c(img.unsqueeze(0)).size()"
   ]
  },
  {
   "cell_type": "code",
   "execution_count": null,
   "metadata": {},
   "outputs": [],
   "source": [
    "img.unsqueeze(0).size()"
   ]
  },
  {
   "cell_type": "code",
   "execution_count": null,
   "metadata": {},
   "outputs": [],
   "source": [
    "list(ds_val.coco."
   ]
  },
  {
   "cell_type": "code",
   "execution_count": null,
   "metadata": {},
   "outputs": [],
   "source": []
  }
 ],
 "metadata": {
  "kernelspec": {
   "display_name": "Python 3",
   "language": "python",
   "name": "python3"
  },
  "language_info": {
   "codemirror_mode": {
    "name": "ipython",
    "version": 3
   },
   "file_extension": ".py",
   "mimetype": "text/x-python",
   "name": "python",
   "nbconvert_exporter": "python",
   "pygments_lexer": "ipython3",
   "version": "3.7.1"
  }
 },
 "nbformat": 4,
 "nbformat_minor": 2
}
