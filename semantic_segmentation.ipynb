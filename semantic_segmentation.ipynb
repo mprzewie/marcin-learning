{
 "cells": [
  {
   "cell_type": "code",
   "execution_count": null,
   "metadata": {},
   "outputs": [],
   "source": [
    "%load_ext autoreload\n",
    "%autoreload 2"
   ]
  },
  {
   "cell_type": "code",
   "execution_count": null,
   "metadata": {},
   "outputs": [],
   "source": [
    "from coco_stuff import COCOStuff\n",
    "from pathlib import Path\n",
    "import matplotlib.pyplot as plt\n",
    "from torchvision.transforms import Normalize, ToTensor, Resize, Lambda\n",
    "from torch import LongTensor, FloatTensor\n",
    "import torch\n",
    "import PIL\n",
    "import cv2\n",
    "import numpy as np\n",
    "import torch.nn.functional as F"
   ]
  },
  {
   "cell_type": "code",
   "execution_count": null,
   "metadata": {},
   "outputs": [],
   "source": [
    "DATA = Path(\"data\")\n",
    "IMG = DATA / \"images\"\n",
    "IMG_TRAIN = IMG / \"train2017\"\n",
    "IMG_VAL = IMG / \"val2017\"\n",
    "\n",
    "ANNOT = DATA / \"annotations\"\n",
    "ANNOT_TRAIN = ANNOT / \"stuff_train2017.json\"\n",
    "ANNOT_VAL = ANNOT / \"stuff_val2017.json\""
   ]
  },
  {
   "cell_type": "code",
   "execution_count": null,
   "metadata": {},
   "outputs": [],
   "source": [
    "INPUT_SIZE = (512, 512)"
   ]
  },
  {
   "cell_type": "code",
   "execution_count": null,
   "metadata": {},
   "outputs": [],
   "source": [
    "image_transforms = [\n",
    "    ToTensor(), \n",
    "    Normalize((0.5, 0.5, 0.5), (0.5, 0.5, 0.5)),\n",
    "    Lambda(\n",
    "        lambda img: F.interpolate(img.unsqueeze(0), INPUT_SIZE, mode=\"bilinear\", align_corners=True).squeeze()\n",
    "    )\n",
    "\n",
    "]\n",
    "\n",
    "mask_transforms = [\n",
    "    Lambda(lambda mask: FloatTensor(np.expand_dims(mask, axis=2)).permute(2, 0, 1)),\n",
    "    Lambda(\n",
    "        lambda mask: F.interpolate(\n",
    "            mask.unsqueeze(0), INPUT_SIZE, mode=\"nearest\"\n",
    "        ).squeeze()\n",
    "    ),\n",
    "    Lambda(lambda mask: mask.squeeze().long())    \n",
    "]"
   ]
  },
  {
   "cell_type": "code",
   "execution_count": null,
   "metadata": {},
   "outputs": [],
   "source": [
    "ds_train = COCOStuff(\n",
    "    images_path=IMG_TRAIN,\n",
    "    annotations_json=ANNOT_TRAIN,\n",
    "    transformations=image_transforms,\n",
    "    target_transformations=mask_transforms\n",
    ")\n",
    "\n",
    "\n",
    "ds_val = COCOStuff(\n",
    "    images_path=IMG_VAL,\n",
    "    annotations_json=ANNOT_VAL,\n",
    "    transformations=image_transforms,\n",
    "    target_transformations=mask_transforms\n",
    ")\n"
   ]
  },
  {
   "cell_type": "code",
   "execution_count": null,
   "metadata": {},
   "outputs": [],
   "source": [
    "ds_val.n_classes"
   ]
  },
  {
   "cell_type": "code",
   "execution_count": null,
   "metadata": {},
   "outputs": [],
   "source": [
    "img, mask = ds_val.get_image_and_mask(ds_val._image_id(4145))"
   ]
  },
  {
   "cell_type": "code",
   "execution_count": null,
   "metadata": {},
   "outputs": [],
   "source": [
    "plt.imshow(img)\n",
    "plt.imshow(mask, alpha=0.7)\n",
    "plt.show()"
   ]
  },
  {
   "cell_type": "code",
   "execution_count": null,
   "metadata": {},
   "outputs": [],
   "source": [
    "np.unique(mask)"
   ]
  }
 ],
 "metadata": {
  "kernelspec": {
   "display_name": "Python 3",
   "language": "python",
   "name": "python3"
  },
  "language_info": {
   "codemirror_mode": {
    "name": "ipython",
    "version": 3
   },
   "file_extension": ".py",
   "mimetype": "text/x-python",
   "name": "python",
   "nbconvert_exporter": "python",
   "pygments_lexer": "ipython3",
   "version": "3.7.1"
  }
 },
 "nbformat": 4,
 "nbformat_minor": 2
}
