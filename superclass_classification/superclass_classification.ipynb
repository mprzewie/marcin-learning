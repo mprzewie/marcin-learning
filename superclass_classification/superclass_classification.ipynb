{
 "cells": [
  {
   "cell_type": "code",
   "execution_count": null,
   "metadata": {},
   "outputs": [],
   "source": [
    "%load_ext autoreload\n",
    "%autoreload 2"
   ]
  },
  {
   "cell_type": "code",
   "execution_count": null,
   "metadata": {},
   "outputs": [],
   "source": [
    "from pathlib import Path\n",
    "import matplotlib.pyplot as plt\n",
    "import torch\n",
    "from torchvision.datasets import CIFAR100\n",
    "from torchvision.transforms import Normalize, ToTensor, Lambda, Compose\n",
    "import torch.nn.functional as F\n",
    "import numpy as np\n",
    "from copy import deepcopy\n",
    "from tqdm import tqdm\n",
    "from torch.utils.data import DataLoader\n",
    "\n",
    "import torch.nn as nn\n",
    "import torch.optim as optim\n",
    "from ipywidgets import interact, fixed\n",
    "import ipywidgets as widgets\n",
    "import cifar_names as cn\n",
    "\n",
    "from tqdm import tqdm"
   ]
  },
  {
   "cell_type": "code",
   "execution_count": null,
   "metadata": {},
   "outputs": [],
   "source": [
    "device = torch.device(\"cuda:0\" if torch.cuda.is_available() else \"cpu\")\n",
    "device"
   ]
  },
  {
   "cell_type": "code",
   "execution_count": null,
   "metadata": {},
   "outputs": [],
   "source": [
    "image_transforms = Compose([\n",
    "    ToTensor(), \n",
    "    Normalize((0.5, 0.5, 0.5), (0.5, 0.5, 0.5))\n",
    "])\n",
    "\n",
    "label_transforms = Compose([\n",
    "    Lambda(lambda label: (label, cn.SUPERCLASS_MAPPING[label])),\n",
    "    Lambda(lambda lsl: (torch.tensor(lsl[0]), torch.tensor(lsl[1])))\n",
    "])"
   ]
  },
  {
   "cell_type": "code",
   "execution_count": null,
   "metadata": {},
   "outputs": [],
   "source": [
    "cifar100_path = Path(\"data/\")\n",
    "cifar100_train, cifar100_test = [\n",
    "    CIFAR100(\n",
    "        cifar100_path, \n",
    "        train=is_train, \n",
    "        download=True,\n",
    "        transform=image_transforms,\n",
    "        target_transform=label_transforms\n",
    "    )\n",
    "    for is_train in [True, False]\n",
    "]"
   ]
  },
  {
   "cell_type": "code",
   "execution_count": null,
   "metadata": {},
   "outputs": [],
   "source": [
    "def show_example(i: int):\n",
    "    img, (c, sc)  = cifar100_train[i]\n",
    "    plt.imshow(img.permute(1,2,0))\n",
    "    plt.title(f\"class: {cn.CIFAR100_LABELS_LIST[c]}, superclass: {cn.SUPERCLASS_LIST[sc]}\")\n",
    "    plt.show()\n",
    "    \n",
    "interact(show_example, i=widgets.IntSlider(max=len(cifar100_train)))"
   ]
  },
  {
   "cell_type": "code",
   "execution_count": null,
   "metadata": {},
   "outputs": [],
   "source": [
    "loader_train = DataLoader(cifar100_train, batch_size=32,shuffle=True)\n",
    "loader_test = DataLoader(cifar100_test, batch_size=32)\n",
    "iter_train = iter(loader_train)\n",
    "iter_test = iter(loader_test)"
   ]
  },
  {
   "cell_type": "code",
   "execution_count": null,
   "metadata": {},
   "outputs": [],
   "source": [
    "class ConvBlock(nn.Module):\n",
    "    def __init__(self, channels_in: int, channels_out: int):\n",
    "        super().__init__()\n",
    "        self.conv_1 = nn.Conv2d(channels_in, channels_out, kernel_size=3, padding=1)\n",
    "        self.conv_2 = nn.Conv2d(channels_out, channels_out, kernel_size=3, padding=1)\n",
    "        self.conv_3 = nn.Conv2d(channels_out, channels_out, kernel_size=3, padding=1)\n",
    "        self.relu = nn.ReLU()\n",
    "        self.batch_norm = nn.BatchNorm2d(channels_out)\n",
    "    def forward(self, X):\n",
    "        c1 = self.conv_1(X)\n",
    "        c2 = self.conv_2(c1)\n",
    "        c3 = self.conv_3(c2)\n",
    "        re = self.relu(c3)\n",
    "        bn = self.batch_norm(re)\n",
    "        return bn"
   ]
  },
  {
   "cell_type": "code",
   "execution_count": null,
   "metadata": {},
   "outputs": [],
   "source": [
    "model_base = nn.Sequential(\n",
    "    ConvBlock(3, 32),\n",
    "    nn.Conv2d(32, 64, kernel_size=3, padding=1, stride=2),\n",
    "    ConvBlock(64, 64),\n",
    "    nn.Conv2d(64, 128, kernel_size=3, padding=1, stride=2),\n",
    "    ConvBlock(128, 128),\n",
    "    nn.Conv2d(128, 256, kernel_size=3, padding=1, stride=2),\n",
    "    ConvBlock(256, 256),\n",
    "    nn.Conv2d(256, 512, kernel_size=3, padding=1, stride=2),\n",
    "    ConvBlock(512, 512),    \n",
    "    nn.Conv2d(512, 1024, kernel_size=3, padding=1, stride=2),\n",
    "    ConvBlock(1024, 1024),    \n",
    ")"
   ]
  },
  {
   "cell_type": "code",
   "execution_count": null,
   "metadata": {},
   "outputs": [],
   "source": [
    "from time import sleep"
   ]
  },
  {
   "cell_type": "code",
   "execution_count": null,
   "metadata": {},
   "outputs": [],
   "source": [
    "iters = 5\n",
    "epochs = 10\n",
    "loss_hist = []\n",
    "acc_hist = []\n",
    "loss_val_hist = []\n",
    "acc_val_hist = []\n",
    "\n",
    "for i in range(iters):\n",
    "    epochbar = tqdm(range(epochs))\n",
    "    ls = [0]\n",
    "    acc = [0]\n",
    "    for _ in epochbar:\n",
    "        epochbar.set_description(\n",
    "            f\"iter: {i} |\\t\" \n",
    "            f\"train_loss: {np.mean(ls)} |\\t\"\n",
    "            f\"train_acc: {np.mean(acc)}\"\n",
    "        )"
   ]
  },
  {
   "cell_type": "code",
   "execution_count": null,
   "metadata": {},
   "outputs": [],
   "source": [
    "x, (y_c, y_s) = next(iter_train)"
   ]
  },
  {
   "cell_type": "code",
   "execution_count": null,
   "metadata": {},
   "outputs": [],
   "source": [
    "x.shape"
   ]
  },
  {
   "cell_type": "code",
   "execution_count": null,
   "metadata": {},
   "outputs": [],
   "source": [
    "out = model_base(x)\n",
    "out.shape"
   ]
  },
  {
   "cell_type": "code",
   "execution_count": null,
   "metadata": {},
   "outputs": [],
   "source": []
  }
 ],
 "metadata": {
  "kernelspec": {
   "display_name": "Python 3",
   "language": "python",
   "name": "python3"
  },
  "language_info": {
   "codemirror_mode": {
    "name": "ipython",
    "version": 3
   },
   "file_extension": ".py",
   "mimetype": "text/x-python",
   "name": "python",
   "nbconvert_exporter": "python",
   "pygments_lexer": "ipython3",
   "version": "3.7.1"
  }
 },
 "nbformat": 4,
 "nbformat_minor": 2
}
