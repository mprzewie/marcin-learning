{
 "cells": [
  {
   "cell_type": "code",
   "execution_count": null,
   "metadata": {},
   "outputs": [],
   "source": [
    "%load_ext autoreload\n",
    "%autoreload 2"
   ]
  },
  {
   "cell_type": "code",
   "execution_count": null,
   "metadata": {},
   "outputs": [],
   "source": [
    "from pathlib import Path\n",
    "import matplotlib.pyplot as plt\n",
    "import torch\n",
    "from torchvision.datasets import CIFAR100\n",
    "from torchvision.transforms import Normalize, ToTensor, Lambda, Compose\n",
    "import torch.nn.functional as F\n",
    "import numpy as np\n",
    "from copy import deepcopy\n",
    "from tqdm import tqdm\n",
    "from torch.utils.data import DataLoader\n",
    "\n",
    "import torch.nn as nn\n",
    "import torch.optim as optim\n",
    "from ipywidgets import interact, fixed\n",
    "import ipywidgets as widgets\n",
    "import cifar_names as cn"
   ]
  },
  {
   "cell_type": "code",
   "execution_count": null,
   "metadata": {},
   "outputs": [],
   "source": [
    "device = torch.device(\"cuda:0\" if torch.cuda.is_available() else \"cpu\")\n",
    "device"
   ]
  },
  {
   "cell_type": "code",
   "execution_count": null,
   "metadata": {},
   "outputs": [],
   "source": [
    "image_transforms = Compose([\n",
    "    ToTensor(), \n",
    "    Normalize((0.5, 0.5, 0.5), (0.5, 0.5, 0.5))\n",
    "])\n",
    "\n",
    "label_transforms = Compose([\n",
    "    Lambda(lambda label: (label, cn.SUPERCLASS_MAPPING[label])),\n",
    "    Lambda(lambda lsl: (torch.tensor(lsl[0]), torch.tensor(lsl[1])))\n",
    "])"
   ]
  },
  {
   "cell_type": "code",
   "execution_count": null,
   "metadata": {},
   "outputs": [],
   "source": [
    "cifar100_path = Path(\"data/\")\n",
    "cifar100_train, cifar100_test = [\n",
    "    CIFAR100(\n",
    "        cifar100_path, \n",
    "        train=is_train, \n",
    "        download=True,\n",
    "        transform=image_transforms,\n",
    "        target_transform=label_transforms\n",
    "    )\n",
    "    for is_train in [True, False]\n",
    "]"
   ]
  },
  {
   "cell_type": "code",
   "execution_count": null,
   "metadata": {},
   "outputs": [],
   "source": [
    "def show_example(i: int):\n",
    "    img, (c, sc)  = cifar100_train[i]\n",
    "    plt.imshow(img.permute(1,2,0))\n",
    "    plt.title(f\"class: {cn.CIFAR100_LABELS_LIST[c]}, superclass: {cn.SUPERCLASS_LIST[sc]}\")\n",
    "    plt.show()\n",
    "    \n",
    "interact(show_example, i=widgets.IntSlider(max=len(cifar100_train)))"
   ]
  },
  {
   "cell_type": "code",
   "execution_count": null,
   "metadata": {},
   "outputs": [],
   "source": [
    "loader_train = DataLoader(cifar100_train, batch_size=32,shuffle=True)\n",
    "loader_test = DataLoader(cifar100_test, batch_size=32)\n",
    "iter_train = iter(loader_train)\n",
    "iter_test = iter(loader_test)"
   ]
  },
  {
   "cell_type": "code",
   "execution_count": null,
   "metadata": {},
   "outputs": [],
   "source": [
    "x, (y_c, y_s) = next(iter_train)"
   ]
  }
 ],
 "metadata": {
  "kernelspec": {
   "display_name": "Python 3",
   "language": "python",
   "name": "python3"
  },
  "language_info": {
   "codemirror_mode": {
    "name": "ipython",
    "version": 3
   },
   "file_extension": ".py",
   "mimetype": "text/x-python",
   "name": "python",
   "nbconvert_exporter": "python",
   "pygments_lexer": "ipython3",
   "version": "3.7.1"
  }
 },
 "nbformat": 4,
 "nbformat_minor": 2
}
