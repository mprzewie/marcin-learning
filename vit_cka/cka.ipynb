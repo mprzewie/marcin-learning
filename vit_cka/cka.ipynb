{
 "cells": [
  {
   "cell_type": "code",
   "execution_count": null,
   "id": "5952821e-5ea2-4d82-9d56-29b9fa7e4e38",
   "metadata": {},
   "outputs": [],
   "source": [
    "import sys\n",
    "import os\n",
    "import requests\n",
    "\n",
    "import torch\n",
    "import numpy as np\n",
    "\n",
    "import matplotlib.pyplot as plt\n",
    "from PIL import Image\n",
    "import mae\n",
    "\n",
    "from torchvision.datasets import ImageFolder\n",
    "from torchvision import transforms as T\n",
    "from cka import CudaCKA, _CKA\n",
    "from collections import defaultdict\n",
    "from tqdm import tqdm\n",
    "\n",
    "device = torch.device(\"cuda:0\" if torch.cuda.is_available() else \"cpu\")\n",
    "device"
   ]
  },
  {
   "cell_type": "code",
   "execution_count": null,
   "id": "3c3fd147-c340-4abe-b60b-3c800b875465",
   "metadata": {},
   "outputs": [],
   "source": [
    "imagenet_mean = np.array([0.485, 0.456, 0.406])\n",
    "imagenet_std = np.array([0.229, 0.224, 0.225])\n",
    "\n",
    "ds = ImageFolder(\n",
    "    # \"/shared/sets/datasets/vision/IN-100/val/\",\\\n",
    "    \"/home/marcin.przewiezlikowki/datasets/CUB_200_2011/images_train_test/val/\",\n",
    "    transform=T.Compose([\n",
    "        T.Resize((224, 224)),\n",
    "        T.ToTensor(),\n",
    "        T.Normalize(imagenet_mean, imagenet_std)\n",
    "    ])\n",
    ")\n",
    "dl = torch.utils.data.DataLoader(ds, batch_size=5, num_workers=4)"
   ]
  },
  {
   "cell_type": "code",
   "execution_count": null,
   "id": "d616c12e-235a-4c29-873f-fef3c2820434",
   "metadata": {},
   "outputs": [],
   "source": [
    "vit_random =  mae.mae_vit_base_patch16().to(device)\n",
    "\n",
    "vit_mae = mae.mae_vit_base_patch16().to(device)\n",
    "vit_mae.load_state_dict(torch.load(\"mae_pretrain_vit_base.pth\")[\"model\"], strict=False)\n"
   ]
  },
  {
   "cell_type": "code",
   "execution_count": null,
   "id": "1f03d79e-6833-46bf-8af1-961043e3388c",
   "metadata": {},
   "outputs": [],
   "source": [
    "# block_ratio_to_cka = defaultdict(list)\n",
    "model_to_ratio_to_block_to_ckas = defaultdict(lambda: defaultdict(lambda: defaultdict(list)))\n",
    "\n",
    "with torch.no_grad():\n",
    "    for model_name, model in {\"mae\": vit_mae, \"random\": vit_random}.items():\n",
    "        for (x,y) in tqdm(dl, desc=model_name):\n",
    "\n",
    "            x = x.to(device)\n",
    "            tokens, mask, ids, x_blocks = model.forward_encoder(x, 0)\n",
    "            x_blocks_no_cls = x_blocks[:, :, 1:, :]\n",
    "\n",
    "            x_blocks_ordered = x_blocks_no_cls.gather(\n",
    "                dim=2, \n",
    "                index=ids.unsqueeze(0).unsqueeze(-1).repeat(\n",
    "                    x_blocks_no_cls.shape[0], 1, 1, x_blocks_no_cls.shape[3]\n",
    "                )\n",
    "            )\n",
    "\n",
    "\n",
    "\n",
    "            for mask_ratio in [0.0, 0.1, 0.3, 0.5, 0.7, 0.9]:\n",
    "                _, m_mask, m_ids, m_x_blocks = model.forward_encoder(x, mask_ratio)\n",
    "                m_ids_shuffle = torch.argsort(m_ids)\n",
    "                x_blocks_ordered_for_m = x_blocks_ordered.gather(\n",
    "                    dim=2,\n",
    "                    index=m_ids_shuffle.unsqueeze(0).unsqueeze(-1).repeat(\n",
    "                        x_blocks_ordered.shape[0], 1, 1, x_blocks_ordered.shape[3]\n",
    "                    )\n",
    "                )\n",
    "                x_blocks_ordered_for_m = x_blocks_ordered_for_m[:, :, :(m_x_blocks.shape[2] - 1), :]\n",
    "\n",
    "                x_blocks_ordered_for_m = torch.cat([x_blocks[:, :, :1, :], x_blocks_ordered_for_m], dim=2) # re-add the cls token\n",
    "\n",
    "                n_blocks, bs, nt, ts = x_blocks_ordered_for_m.shape\n",
    "                assert m_x_blocks.shape == x_blocks_ordered_for_m.shape\n",
    "\n",
    "                for block_id in range(len(m_x_blocks)):\n",
    "                    orig_tokens = x_blocks_ordered_for_m[block_id].reshape((bs*nt, ts))\n",
    "                    m_tokens = m_x_blocks[block_id].reshape((bs*nt, ts))\n",
    "\n",
    "                    model_to_ratio_to_block_to_ckas[model_name][mask_ratio][block_id].append(\n",
    "                        _CKA(orig_tokens, m_tokens).item() \n",
    "                    )\n",
    "                    # kernel_to_ratio_to_block_to_ckas[\"kernel\"][mask_ratio][block_id].append(\n",
    "                    #     cka.kernel_CKA(orig_tokens, m_tokens).item() \n",
    "                    # )\n",
    "\n",
    "        # x.shape, x_blocks.shape, x_blocks_no_cls.shape, x_blocks_ordered.shape, x_blocks_ordered_for_m.shape, m_x_blocks.shape, #block_ratio_to_cka"
   ]
  },
  {
   "cell_type": "code",
   "execution_count": null,
   "id": "9cd0126c-b469-4284-9279-28952d8b35a9",
   "metadata": {},
   "outputs": [],
   "source": [
    "for model, ratio_to_block_to_ckas in model_to_ratio_to_block_to_ckas.items():\n",
    "    plt.figure()\n",
    "    for ratio, block_to_ckas in ratio_to_block_to_ckas.items():\n",
    "        bcka_list = [np.mean(block_to_ckas[b]) for b in sorted(block_to_ckas.keys())]\n",
    "        plt.plot(bcka_list, label=f\"{ratio=:.2f}\")\n",
    "    \n",
    "    plt.legend()\n",
    "    plt.title(model)"
   ]
  }
 ],
 "metadata": {
  "kernelspec": {
   "display_name": "Python 3 (ipykernel)",
   "language": "python",
   "name": "python3"
  },
  "language_info": {
   "codemirror_mode": {
    "name": "ipython",
    "version": 3
   },
   "file_extension": ".py",
   "mimetype": "text/x-python",
   "name": "python",
   "nbconvert_exporter": "python",
   "pygments_lexer": "ipython3",
   "version": "3.10.9"
  }
 },
 "nbformat": 4,
 "nbformat_minor": 5
}
